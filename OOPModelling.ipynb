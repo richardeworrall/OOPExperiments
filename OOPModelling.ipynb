{
 "cells": [
  {
   "cell_type": "code",
   "execution_count": 1,
   "id": "0521ec88-1420-4698-b0a5-1bfa68e5fb1c",
   "metadata": {},
   "outputs": [],
   "source": [
    "# Data is available here!\n",
    "# https://opendata.nhsbsa.net/dataset/english-prescribing-data-epd/resource/352fad86-d416-4076-aa2c-1e73d42f51cf"
   ]
  },
  {
   "cell_type": "code",
   "execution_count": 2,
   "id": "0dcd87d4-dec1-4829-bc1b-b4045998024f",
   "metadata": {},
   "outputs": [],
   "source": [
    "# Definitions :)\n",
    "\n",
    "# EPD -- English prescribing data\n",
    "# BNF -- British National Formulary\n",
    "# ADQ -- Average Daily Quantity (Seen in \"ADQUSAGE\")\n",
    "\n",
    "# A formulary is a list of pharmaceutical drugs, often decided upon by a group of people, \n",
    "# for various reasons such as insurance coverage or use at a medical facility.\n",
    "\n",
    "# BNF_CODE -- The unique code used to refer to a BNF Presentation. For example, 0501013B0AAABAB\n",
    "# BNF_DESCRIPTION -- The name given to the specific type, strength, and formulation of a drug; or, the specific type of an appliance. For example, Amoxicillin 500mg capsules\n",
    "\n",
    "# BNF_CHEMICAL_SUBSTANCE -- A unique code used to refer to a BNF Chemical Substance. For example, 0501013B0\n",
    "# CHEMICAL_SUBSTANCE_BNF_DESCR -- The name of the main active ingredient in a drug or the type of an appliance. Determined by the British National Formulatory (BNF) for drugs, or the NHS BSA for appliances. For example, Amoxicillin"
   ]
  },
  {
   "cell_type": "code",
   "execution_count": 3,
   "id": "1cc74cdb-7830-4162-8576-1c140a128bd9",
   "metadata": {},
   "outputs": [],
   "source": [
    "# Some observations:\n",
    "\n",
    "# 1. Counterintuitively, a chemical substance has multiple drugs associated with it, \n",
    "# but a drug only ever has a single chemical substance associated with it.\n",
    "# This means we can calculate total cost just by summing over chemical substances->drugs->records\n",
    "\n",
    "# 2. The problem sheet doesn't make it obvious that there should only be ONE formulary (and corresponding formulary object)\n",
    "# in this exercise. I spent ages trying to figure out where a \"formularly id\" should come from but I don't think such a thing exists!"
   ]
  },
  {
   "cell_type": "code",
   "execution_count": 4,
   "id": "2b7e98ac-7bf5-4f79-86d5-c8874e16fda9",
   "metadata": {},
   "outputs": [],
   "source": [
    "import requests\n",
    "import pandas as pd\n",
    "import random\n",
    "import locale\n",
    "\n",
    "from dataclasses import dataclass, field\n",
    "from typing import List"
   ]
  },
  {
   "cell_type": "code",
   "execution_count": 5,
   "id": "2186e82a-dcb2-4ac8-ad13-97298f298430",
   "metadata": {},
   "outputs": [],
   "source": [
    "# we want to output £... later so make sure we're using UK locale\n",
    "# not especially relevant to the exercise\n",
    "locale.setlocale(locale.LC_ALL, 'en_GB');"
   ]
  },
  {
   "cell_type": "code",
   "execution_count": 6,
   "id": "2e889ffa-9787-46c8-9de4-376415728247",
   "metadata": {},
   "outputs": [],
   "source": [
    "# Define some OOP classes\n",
    "\n",
    "@dataclass\n",
    "class PracticePrescribingRecord:\n",
    "    \n",
    "    # (1) a practice prescribing record class: this is equivalent to one row of information in the EPD data, \n",
    "    # this class should store information on: practice name and practice code, total quantity, actual cost\n",
    "    \n",
    "    practice_name: str\n",
    "    practice_code: str\n",
    "    total_quantity: float\n",
    "    actual_cost: float\n",
    "    \n",
    "@dataclass\n",
    "class Drug:\n",
    "    \n",
    "    # (2) a drug class: this should model each drug and include information on BNF code and BNF description, \n",
    "    # as well as a list of practice prescribing records for the drug\n",
    "    \n",
    "    drug_name: str\n",
    "    drug_code: str\n",
    "    \n",
    "    practice_prescribing_records: List[PracticePrescribingRecord] = field(repr=False)\n",
    "    \n",
    "    def total_cost(self) -> float:\n",
    "        return sum(map(lambda x: x.actual_cost, self.practice_prescribing_records))\n",
    "\n",
    "@dataclass\n",
    "class ChemicalSubstance:\n",
    "    \n",
    "    # (3) a chemical substance class: this should model all chemical substances \n",
    "    # and include information on the substance name (CHEMICAL_SUBSTANCE BNF DESCR) and code (BNF_CHEMICAL_SUBSTANCE)\n",
    "    # as well as a list of drugs which have this substance as their active ingredient\n",
    "    \n",
    "    substance_name: str\n",
    "    substance_code: str\n",
    "    \n",
    "    drugs: List[Drug] = field(repr=False)\n",
    "    \n",
    "    def total_cost(self) -> float:\n",
    "        return sum(map(lambda x: x.total_cost(), self.drugs))\n",
    "    \n",
    "@dataclass\n",
    "class Formulary:\n",
    "    \n",
    "    # (4) a formulary class: which models the overall system and include a formulary name, a list of substances,\n",
    "    # and a method to return the overall actual costs of all practice prescribing records included\n",
    "    \n",
    "    formulary_name: str\n",
    "    chemical_substances: List[ChemicalSubstance] = field(repr=False)\n",
    "    \n",
    "    def total_cost(self) -> float:\n",
    "        return sum(map(lambda x: x.total_cost(), self.chemical_substances))"
   ]
  },
  {
   "cell_type": "code",
   "execution_count": 7,
   "id": "eae9c235-40b2-4b31-9a90-fcaff9112bfc",
   "metadata": {
    "tags": []
   },
   "outputs": [],
   "source": [
    "# Fetch some data\n",
    "\n",
    "sql = \"SELECT * from `EPD_202301` limit 20000\"\n",
    "url =  \"https://opendata.nhsbsa.net/api/3/action/datastore_search_sql?resource_id=EPD_202301&sql=\" + sql\n",
    "response = requests.get(url)\n",
    "records = response.json()['result']['result']['records']\n",
    "data = pd.DataFrame.from_dict(records)"
   ]
  },
  {
   "cell_type": "code",
   "execution_count": 8,
   "id": "0ccce016-bd4e-42d6-8815-1fd6e765313f",
   "metadata": {},
   "outputs": [],
   "source": [
    "def make_objects_from_dataframe(df):\n",
    "\n",
    "    # there are faster ways to do this, but this keeps things (reasonably) simple without being obnoxiously slow\n",
    "    \n",
    "    drug_lookup = {}    # mapping from drug id to drug class instance (in the OOP sense)\n",
    "    chemical_substance_lookup = {}    # mapping from chemical substance id to chemical substance info\n",
    "\n",
    "    # create OOP objects for each unique drug and chemical substance\n",
    "    # also add each record to the list of records on the drug mentioned by that record\n",
    "    for row in df.to_dict(orient=\"records\"):\n",
    "\n",
    "        practice_prescribing_record = PracticePrescribingRecord(\n",
    "                        practice_name=row['PRACTICE_NAME'], \n",
    "                        practice_code=row['PRACTICE_CODE'], \n",
    "                        total_quantity=row['TOTAL_QUANTITY'], \n",
    "                        actual_cost=row['ACTUAL_COST'])\n",
    "\n",
    "        chemical_substance_code = row['BNF_CHEMICAL_SUBSTANCE']\n",
    "        chemical_substance_description = row['CHEMICAL_SUBSTANCE_BNF_DESCR']\n",
    "\n",
    "        # create an entry for the chemical substance if we haven't seen it before\n",
    "        if chemical_substance_code not in chemical_substance_lookup:\n",
    "            chemical_substance_lookup[chemical_substance_code] = ChemicalSubstance(\n",
    "                substance_name=chemical_substance_description,\n",
    "                substance_code=chemical_substance_code,\n",
    "                drugs=None) # will populate this in the second pass\n",
    "\n",
    "        drug_code = row['BNF_CODE']\n",
    "        drug_name = row['BNF_DESCRIPTION']\n",
    "\n",
    "        if drug_code not in drug_lookup:\n",
    "            drug_lookup[drug_code] = Drug(drug_code=drug_code, drug_name=drug_name, practice_prescribing_records=[])\n",
    "\n",
    "        drug_lookup[drug_code].practice_prescribing_records.append(practice_prescribing_record)\n",
    "\n",
    "    # do a second pass: for each chemical substance we know about, get the drugs that use that substance:\n",
    "    for chemical_substance_code in chemical_substance_lookup:\n",
    "        drug_codes = list(df[df['BNF_CHEMICAL_SUBSTANCE'] == chemical_substance_code]['BNF_CODE'].drop_duplicates())\n",
    "        drug_objects = list(map(lambda x: drug_lookup[x], drug_codes))\n",
    "        chemical_substance_lookup[chemical_substance_code].drugs = drug_objects\n",
    "    \n",
    "    formulary = Formulary(formulary_name='BNF', chemical_substances=list(chemical_substance_lookup.values()))\n",
    "    \n",
    "    return formulary, chemical_substance_lookup, drug_lookup"
   ]
  },
  {
   "cell_type": "code",
   "execution_count": 9,
   "id": "c3778de5-6dde-4a06-99a4-7b9c5d7f51b7",
   "metadata": {},
   "outputs": [],
   "source": [
    "formulary, chemical_substance_lookup, drug_lookup = make_objects_from_dataframe(data)"
   ]
  },
  {
   "cell_type": "code",
   "execution_count": 10,
   "id": "751889f4-8dc1-4728-a81f-ec28c984e38c",
   "metadata": {},
   "outputs": [
    {
     "data": {
      "text/plain": [
       "[('1304000V0',\n",
       "  ChemicalSubstance(substance_name='Hydrocortisone', substance_code='1304000V0')),\n",
       " ('0304010E0',\n",
       "  ChemicalSubstance(substance_name='Fexofenadine hydrochloride', substance_code='0304010E0')),\n",
       " ('2122',\n",
       "  ChemicalSubstance(substance_name='Emollients', substance_code='2122'))]"
      ]
     },
     "execution_count": 10,
     "metadata": {},
     "output_type": "execute_result"
    }
   ],
   "source": [
    "list(chemical_substance_lookup.items())[:3]"
   ]
  },
  {
   "cell_type": "code",
   "execution_count": 11,
   "id": "13caf45f-2af4-4aaf-8505-f450b71e4fd1",
   "metadata": {},
   "outputs": [
    {
     "data": {
      "text/plain": [
       "[Drug(drug_name='Omeprazole 20mg gastro-resistant capsules', drug_code='0103050P0AAAAAA'),\n",
       " Drug(drug_name='Omeprazole 20mg dispersible gastro-resistant tablets', drug_code='0103050P0AAANAN'),\n",
       " Drug(drug_name='Omeprazole 10mg gastro-resistant capsules', drug_code='0103050P0AAAFAF')]"
      ]
     },
     "execution_count": 11,
     "metadata": {},
     "output_type": "execute_result"
    }
   ],
   "source": [
    "chemical_substance_lookup['0103050P0'].drugs[:3]"
   ]
  },
  {
   "cell_type": "code",
   "execution_count": 12,
   "id": "2bc71888-04e5-4ae3-9c07-c4c17e529a5c",
   "metadata": {},
   "outputs": [
    {
     "data": {
      "text/plain": [
       "[PracticePrescribingRecord(practice_name='CLARENCE MEDICAL CENTRE', practice_code='K81074', total_quantity=56.0, actual_cost=26.09602),\n",
       " PracticePrescribingRecord(practice_name='FARNHAM DENE MEDICAL PRACTICE', practice_code='H81615', total_quantity=168.0, actual_cost=78.27567),\n",
       " PracticePrescribingRecord(practice_name='SEVERNSIDE MEDICAL PRACTICE', practice_code='L84052', total_quantity=28.0, actual_cost=13.05421)]"
      ]
     },
     "execution_count": 12,
     "metadata": {},
     "output_type": "execute_result"
    }
   ],
   "source": [
    "drug_lookup['0103050P0BBAEAN'].practice_prescribing_records[:3]"
   ]
  },
  {
   "cell_type": "code",
   "execution_count": 13,
   "id": "48778f34-5c45-4215-b837-5bc5916ad1ff",
   "metadata": {},
   "outputs": [
    {
     "name": "stdout",
     "output_type": "stream",
     "text": [
      "The BNF formulary, contains 921 substances and a total cost of £972,027.85\n"
     ]
    }
   ],
   "source": [
    "print(f'The {formulary.formulary_name} formulary, ' +\n",
    "      f'contains {len(formulary.chemical_substances)} substances ' +\n",
    "      f'and a total cost of {locale.currency(formulary.total_cost(), grouping=True)}')"
   ]
  },
  {
   "cell_type": "code",
   "execution_count": null,
   "id": "a096f6b3-62fe-473f-90a6-99cfa26037b7",
   "metadata": {},
   "outputs": [],
   "source": []
  }
 ],
 "metadata": {
  "kernelspec": {
   "display_name": "Python 3 (ipykernel)",
   "language": "python",
   "name": "python3"
  },
  "language_info": {
   "codemirror_mode": {
    "name": "ipython",
    "version": 3
   },
   "file_extension": ".py",
   "mimetype": "text/x-python",
   "name": "python",
   "nbconvert_exporter": "python",
   "pygments_lexer": "ipython3",
   "version": "3.8.13"
  }
 },
 "nbformat": 4,
 "nbformat_minor": 5
}
