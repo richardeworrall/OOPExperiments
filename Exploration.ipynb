{
 "cells": [
  {
   "cell_type": "code",
   "execution_count": 1,
   "id": "2a5899f5-e10e-43a9-8822-2439000f81f5",
   "metadata": {},
   "outputs": [],
   "source": [
    "# Data is available here!\n",
    "# https://opendata.nhsbsa.net/dataset/english-prescribing-data-epd/resource/352fad86-d416-4076-aa2c-1e73d42f51cf"
   ]
  },
  {
   "cell_type": "code",
   "execution_count": 2,
   "id": "f3b904f6-59f3-4fb7-ac28-fde349230473",
   "metadata": {},
   "outputs": [],
   "source": [
    "# Definitions :)\n",
    "\n",
    "# EPD -- English prescribing data\n",
    "# BNF -- British National Formulary\n",
    "# ADQ -- Average Daily Quantity (Seen in \"ADQUSAGE\")\n",
    "\n",
    "# A formulary is a list of pharmaceutical drugs, often decided upon by a group of people, \n",
    "# for various reasons such as insurance coverage or use at a medical facility.\n",
    "\n",
    "# BNF_CODE -- The unique code used to refer to a BNF Presentation. For example, 0501013B0AAABAB\n",
    "# BNF_DESCRIPTION -- The name given to the specific type, strength, and formulation of a drug; or, the specific type of an appliance. For example, Amoxicillin 500mg capsules\n",
    "\n",
    "# BNF_CHEMICAL_SUBSTANCE -- A unique code used to refer to a BNF Chemical Substance. For example, 0501013B0\n",
    "# CHEMICAL_SUBSTANCE_BNF_DESCR -- The name of the main active ingredient in a drug or the type of an appliance. Determined by the British National Formulatory (BNF) for drugs, or the NHS BSA for appliances. For example, Amoxicillin"
   ]
  },
  {
   "cell_type": "code",
   "execution_count": 3,
   "id": "a740a7f5-4011-4ddc-b830-b3704fb20c22",
   "metadata": {},
   "outputs": [],
   "source": [
    "import requests\n",
    "import pandas as pd\n",
    "import random\n",
    "\n",
    "from dataclasses import dataclass\n",
    "from typing import List"
   ]
  },
  {
   "cell_type": "code",
   "execution_count": 4,
   "id": "29d1fec8-5687-4a9d-b397-241e51867d14",
   "metadata": {},
   "outputs": [],
   "source": [
    "pd.set_option('display.max_columns', None)"
   ]
  },
  {
   "cell_type": "code",
   "execution_count": 5,
   "id": "cff5020b-91d1-436e-bbc1-ea0d8769daa4",
   "metadata": {},
   "outputs": [],
   "source": [
    "# Fetch some data\n",
    "\n",
    "sql = \"SELECT * from `EPD_202301` limit 20000\"\n",
    "url =  \"https://opendata.nhsbsa.net/api/3/action/datastore_search_sql?resource_id=EPD_202301&sql=\" + sql\n",
    "response = requests.get(url)\n",
    "records = response.json()['result']['result']['records']\n",
    "data = pd.DataFrame.from_dict(records)"
   ]
  },
  {
   "cell_type": "code",
   "execution_count": 6,
   "id": "d2100b69-e469-4e4e-979f-af04d35c9a21",
   "metadata": {},
   "outputs": [
    {
     "data": {
      "text/plain": [
       "Index(['BNF_CODE', 'TOTAL_QUANTITY', 'POSTCODE', 'YEAR_MONTH', 'UNIDENTIFIED',\n",
       "       'PRACTICE_NAME', 'ICB_NAME', 'BNF_CHAPTER_PLUS_CODE', 'ICB_CODE',\n",
       "       'ACTUAL_COST', 'QUANTITY', 'REGIONAL_OFFICE_CODE', 'ITEMS', 'ADDRESS_4',\n",
       "       'ADDRESS_1', 'ADDRESS_2', 'ADDRESS_3', 'BNF_CHEMICAL_SUBSTANCE',\n",
       "       'ADQUSAGE', 'PCO_CODE', 'REGIONAL_OFFICE_NAME', 'NIC',\n",
       "       'CHEMICAL_SUBSTANCE_BNF_DESCR', 'PRACTICE_CODE', 'PCO_NAME',\n",
       "       'BNF_DESCRIPTION'],\n",
       "      dtype='object')"
      ]
     },
     "execution_count": 6,
     "metadata": {},
     "output_type": "execute_result"
    }
   ],
   "source": [
    "data.columns"
   ]
  },
  {
   "cell_type": "code",
   "execution_count": 7,
   "id": "a05a34ce-7451-4591-b04f-f9c5f1013c34",
   "metadata": {},
   "outputs": [
    {
     "data": {
      "text/html": [
       "<div>\n",
       "<style scoped>\n",
       "    .dataframe tbody tr th:only-of-type {\n",
       "        vertical-align: middle;\n",
       "    }\n",
       "\n",
       "    .dataframe tbody tr th {\n",
       "        vertical-align: top;\n",
       "    }\n",
       "\n",
       "    .dataframe thead th {\n",
       "        text-align: right;\n",
       "    }\n",
       "</style>\n",
       "<table border=\"1\" class=\"dataframe\">\n",
       "  <thead>\n",
       "    <tr style=\"text-align: right;\">\n",
       "      <th></th>\n",
       "      <th>BNF_CODE</th>\n",
       "      <th>BNF_DESCRIPTION</th>\n",
       "      <th>BNF_CHEMICAL_SUBSTANCE</th>\n",
       "      <th>CHEMICAL_SUBSTANCE_BNF_DESCR</th>\n",
       "    </tr>\n",
       "  </thead>\n",
       "  <tbody>\n",
       "    <tr>\n",
       "      <th>300</th>\n",
       "      <td>20090000482</td>\n",
       "      <td>Comfifast stockinette 7.5cm</td>\n",
       "      <td>2009</td>\n",
       "      <td>Stockinette</td>\n",
       "    </tr>\n",
       "    <tr>\n",
       "      <th>301</th>\n",
       "      <td>0702010F0AAAAAA</td>\n",
       "      <td>Estriol 0.1% cream</td>\n",
       "      <td>0702010F0</td>\n",
       "      <td>Estriol</td>\n",
       "    </tr>\n",
       "    <tr>\n",
       "      <th>302</th>\n",
       "      <td>0208010L0BBAIAI</td>\n",
       "      <td>Fragmin 18,000units/0.72ml inj pre-filled syri...</td>\n",
       "      <td>0208010L0</td>\n",
       "      <td>Dalteparin sodium</td>\n",
       "    </tr>\n",
       "    <tr>\n",
       "      <th>303</th>\n",
       "      <td>0408010H0AAABAB</td>\n",
       "      <td>Lamotrigine 50mg tablets</td>\n",
       "      <td>0408010H0</td>\n",
       "      <td>Lamotrigine</td>\n",
       "    </tr>\n",
       "    <tr>\n",
       "      <th>304</th>\n",
       "      <td>0604020C0AAAAAA</td>\n",
       "      <td>Finasteride 5mg tablets</td>\n",
       "      <td>0604020C0</td>\n",
       "      <td>Finasteride</td>\n",
       "    </tr>\n",
       "  </tbody>\n",
       "</table>\n",
       "</div>"
      ],
      "text/plain": [
       "            BNF_CODE                                    BNF_DESCRIPTION  \\\n",
       "300      20090000482                        Comfifast stockinette 7.5cm   \n",
       "301  0702010F0AAAAAA                                 Estriol 0.1% cream   \n",
       "302  0208010L0BBAIAI  Fragmin 18,000units/0.72ml inj pre-filled syri...   \n",
       "303  0408010H0AAABAB                           Lamotrigine 50mg tablets   \n",
       "304  0604020C0AAAAAA                            Finasteride 5mg tablets   \n",
       "\n",
       "    BNF_CHEMICAL_SUBSTANCE CHEMICAL_SUBSTANCE_BNF_DESCR  \n",
       "300                   2009                  Stockinette  \n",
       "301              0702010F0                      Estriol  \n",
       "302              0208010L0            Dalteparin sodium  \n",
       "303              0408010H0                  Lamotrigine  \n",
       "304              0604020C0                  Finasteride  "
      ]
     },
     "execution_count": 7,
     "metadata": {},
     "output_type": "execute_result"
    }
   ],
   "source": [
    "data[['BNF_CODE','BNF_DESCRIPTION','BNF_CHEMICAL_SUBSTANCE','CHEMICAL_SUBSTANCE_BNF_DESCR']][300:305]"
   ]
  },
  {
   "cell_type": "code",
   "execution_count": 8,
   "id": "450d75a3-3768-45bf-9866-075af688f41d",
   "metadata": {},
   "outputs": [
    {
     "data": {
      "text/html": [
       "<div>\n",
       "<style scoped>\n",
       "    .dataframe tbody tr th:only-of-type {\n",
       "        vertical-align: middle;\n",
       "    }\n",
       "\n",
       "    .dataframe tbody tr th {\n",
       "        vertical-align: top;\n",
       "    }\n",
       "\n",
       "    .dataframe thead th {\n",
       "        text-align: right;\n",
       "    }\n",
       "</style>\n",
       "<table border=\"1\" class=\"dataframe\">\n",
       "  <thead>\n",
       "    <tr style=\"text-align: right;\">\n",
       "      <th></th>\n",
       "      <th>PCO_CODE</th>\n",
       "      <th>BNF_CODE</th>\n",
       "      <th>BNF_DESCRIPTION</th>\n",
       "      <th>BNF_CHEMICAL_SUBSTANCE</th>\n",
       "      <th>CHEMICAL_SUBSTANCE_BNF_DESCR</th>\n",
       "    </tr>\n",
       "  </thead>\n",
       "  <tbody>\n",
       "    <tr>\n",
       "      <th>52</th>\n",
       "      <td>-</td>\n",
       "      <td>0101021B0BEASA0</td>\n",
       "      <td>Gaviscon Double Action Liquid peppermint</td>\n",
       "      <td>0101021B0</td>\n",
       "      <td>Alginic acid compound preparations</td>\n",
       "    </tr>\n",
       "    <tr>\n",
       "      <th>947</th>\n",
       "      <td>15N00</td>\n",
       "      <td>0101021B0BEADAJ</td>\n",
       "      <td>Gaviscon Infant oral powder sachets</td>\n",
       "      <td>0101021B0</td>\n",
       "      <td>Alginic acid compound preparations</td>\n",
       "    </tr>\n",
       "    <tr>\n",
       "      <th>1239</th>\n",
       "      <td>15N00</td>\n",
       "      <td>0101021B0BEBEAL</td>\n",
       "      <td>Gaviscon Advance oral susp peppermint (Reckitt...</td>\n",
       "      <td>0101021B0</td>\n",
       "      <td>Alginic acid compound preparations</td>\n",
       "    </tr>\n",
       "    <tr>\n",
       "      <th>1527</th>\n",
       "      <td>15N00</td>\n",
       "      <td>0101021B0BQACAL</td>\n",
       "      <td>Acidex Advance oral suspension aniseed</td>\n",
       "      <td>0101021B0</td>\n",
       "      <td>Alginic acid compound preparations</td>\n",
       "    </tr>\n",
       "    <tr>\n",
       "      <th>1674</th>\n",
       "      <td>15N00</td>\n",
       "      <td>0101021B0BEACAH</td>\n",
       "      <td>Gaviscon Original Aniseed Relief</td>\n",
       "      <td>0101021B0</td>\n",
       "      <td>Alginic acid compound preparations</td>\n",
       "    </tr>\n",
       "  </tbody>\n",
       "</table>\n",
       "</div>"
      ],
      "text/plain": [
       "     PCO_CODE         BNF_CODE  \\\n",
       "52          -  0101021B0BEASA0   \n",
       "947     15N00  0101021B0BEADAJ   \n",
       "1239    15N00  0101021B0BEBEAL   \n",
       "1527    15N00  0101021B0BQACAL   \n",
       "1674    15N00  0101021B0BEACAH   \n",
       "\n",
       "                                        BNF_DESCRIPTION  \\\n",
       "52             Gaviscon Double Action Liquid peppermint   \n",
       "947                 Gaviscon Infant oral powder sachets   \n",
       "1239  Gaviscon Advance oral susp peppermint (Reckitt...   \n",
       "1527             Acidex Advance oral suspension aniseed   \n",
       "1674                   Gaviscon Original Aniseed Relief   \n",
       "\n",
       "     BNF_CHEMICAL_SUBSTANCE        CHEMICAL_SUBSTANCE_BNF_DESCR  \n",
       "52                0101021B0  Alginic acid compound preparations  \n",
       "947               0101021B0  Alginic acid compound preparations  \n",
       "1239              0101021B0  Alginic acid compound preparations  \n",
       "1527              0101021B0  Alginic acid compound preparations  \n",
       "1674              0101021B0  Alginic acid compound preparations  "
      ]
     },
     "execution_count": 8,
     "metadata": {},
     "output_type": "execute_result"
    }
   ],
   "source": [
    "data[data['BNF_CHEMICAL_SUBSTANCE'] == '0101021B0'][['PCO_CODE', 'BNF_CODE','BNF_DESCRIPTION','BNF_CHEMICAL_SUBSTANCE','CHEMICAL_SUBSTANCE_BNF_DESCR']][:5]"
   ]
  },
  {
   "cell_type": "code",
   "execution_count": 9,
   "id": "f4ab1e9f-eb0e-4c56-9b08-b5ce226f95ed",
   "metadata": {},
   "outputs": [
    {
     "data": {
      "text/plain": [
       "BNF_CHEMICAL_SUBSTANCE\n",
       "0101010L0     1\n",
       "0101010R0     2\n",
       "0101021B0    17\n",
       "0102000A0     2\n",
       "0102000L0     3\n",
       "             ..\n",
       "2385         11\n",
       "2390          2\n",
       "2392          1\n",
       "2394         17\n",
       "2396          7\n",
       "Length: 921, dtype: int64"
      ]
     },
     "execution_count": 9,
     "metadata": {},
     "output_type": "execute_result"
    }
   ],
   "source": [
    "data[['BNF_CODE','BNF_CHEMICAL_SUBSTANCE']].drop_duplicates().groupby(['BNF_CHEMICAL_SUBSTANCE']).size()"
   ]
  },
  {
   "cell_type": "code",
   "execution_count": 10,
   "id": "d444b085-9490-4e4e-8d15-a94a8c0d55ec",
   "metadata": {},
   "outputs": [
    {
     "data": {
      "text/plain": [
       "972027.8481199999"
      ]
     },
     "execution_count": 10,
     "metadata": {},
     "output_type": "execute_result"
    }
   ],
   "source": [
    "data['ACTUAL_COST'].sum()"
   ]
  },
  {
   "cell_type": "code",
   "execution_count": null,
   "id": "edf3aa24-8243-4a5f-be78-407e1cfe965b",
   "metadata": {},
   "outputs": [],
   "source": []
  }
 ],
 "metadata": {
  "kernelspec": {
   "display_name": "Python 3 (ipykernel)",
   "language": "python",
   "name": "python3"
  },
  "language_info": {
   "codemirror_mode": {
    "name": "ipython",
    "version": 3
   },
   "file_extension": ".py",
   "mimetype": "text/x-python",
   "name": "python",
   "nbconvert_exporter": "python",
   "pygments_lexer": "ipython3",
   "version": "3.8.13"
  }
 },
 "nbformat": 4,
 "nbformat_minor": 5
}
